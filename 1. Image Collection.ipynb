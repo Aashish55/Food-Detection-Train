{
 "cells": [
  {
   "cell_type": "markdown",
   "metadata": {},
   "source": [
    "# 1. Import Dependencies"
   ]
  },
  {
   "cell_type": "code",
   "execution_count": 1,
   "metadata": {},
   "outputs": [
    {
     "name": "stdout",
     "output_type": "stream",
     "text": [
      "Requirement already satisfied: opencv-python in c:\\users\\aashi\\anaconda3\\lib\\site-packages (4.5.3.56)\n",
      "Requirement already satisfied: numpy>=1.17.3 in c:\\users\\aashi\\anaconda3\\lib\\site-packages (from opencv-python) (1.19.5)\n"
     ]
    }
   ],
   "source": [
    "!pip install opencv-python"
   ]
  },
  {
   "cell_type": "code",
   "execution_count": 1,
   "metadata": {},
   "outputs": [],
   "source": [
    "# Import opencv\n",
    "import cv2 \n",
    "\n",
    "# Import uuid\n",
    "import uuid\n",
    "\n",
    "# Import Operating System\n",
    "import os\n",
    "\n",
    "# Import time\n",
    "import time"
   ]
  },
  {
   "cell_type": "markdown",
   "metadata": {},
   "source": [
    "# 2. Define Images to Collect"
   ]
  },
  {
   "cell_type": "code",
   "execution_count": 2,
   "metadata": {},
   "outputs": [],
   "source": [
    "labels = ['apple', 'tomato', 'lemon', 'radish', 'nimki']\n",
    "number_imgs = 10"
   ]
  },
  {
   "cell_type": "markdown",
   "metadata": {},
   "source": [
    "# 3. Setup Folders "
   ]
  },
  {
   "cell_type": "code",
   "execution_count": 3,
   "metadata": {},
   "outputs": [],
   "source": [
    "IMAGES_PATH = os.path.join('Tensorflow', 'workspace', 'images', 'collectedimages')"
   ]
  },
  {
   "cell_type": "code",
   "execution_count": 4,
   "metadata": {},
   "outputs": [],
   "source": [
    "if not os.path.exists(IMAGES_PATH):\n",
    "    if os.name == 'posix':\n",
    "        !mkdir -p {IMAGES_PATH}\n",
    "    if os.name == 'nt':\n",
    "         !mkdir {IMAGES_PATH}\n",
    "for label in labels:\n",
    "    path = os.path.join(IMAGES_PATH, label)\n",
    "    if not os.path.exists(path):\n",
    "        !mkdir {path}"
   ]
  },
  {
   "cell_type": "markdown",
   "metadata": {},
   "source": [
    "# 4. Capture Images"
   ]
  },
  {
   "cell_type": "code",
   "execution_count": 5,
   "metadata": {},
   "outputs": [],
   "source": [
    "import pathlib"
   ]
  },
  {
   "cell_type": "code",
   "execution_count": 6,
   "metadata": {},
   "outputs": [
    {
     "name": "stdout",
     "output_type": "stream",
     "text": [
      "apple image renaming processing\n",
      "images renamed\n",
      "images renamed\n",
      "images renamed\n",
      "images renamed\n",
      "images renamed\n",
      "images renamed\n",
      "images renamed\n",
      "images renamed\n",
      "images renamed\n",
      "images renamed\n",
      "images renamed\n",
      "images renamed\n",
      "images renamed\n",
      "images renamed\n",
      "images renamed\n",
      "tomato image renaming processing\n",
      "images renamed\n",
      "images renamed\n",
      "images renamed\n",
      "images renamed\n",
      "images renamed\n",
      "images renamed\n",
      "images renamed\n",
      "images renamed\n",
      "images renamed\n",
      "images renamed\n",
      "images renamed\n",
      "images renamed\n",
      "images renamed\n",
      "images renamed\n",
      "images renamed\n",
      "lemon image renaming processing\n",
      "images renamed\n",
      "images renamed\n",
      "images renamed\n",
      "images renamed\n",
      "images renamed\n",
      "images renamed\n",
      "images renamed\n",
      "images renamed\n",
      "images renamed\n",
      "images renamed\n",
      "images renamed\n",
      "images renamed\n",
      "images renamed\n",
      "images renamed\n",
      "images renamed\n",
      "radish image renaming processing\n",
      "images renamed\n",
      "images renamed\n",
      "images renamed\n",
      "images renamed\n",
      "images renamed\n",
      "images renamed\n",
      "images renamed\n",
      "images renamed\n",
      "images renamed\n",
      "images renamed\n",
      "images renamed\n",
      "images renamed\n",
      "images renamed\n",
      "images renamed\n",
      "images renamed\n",
      "nimki image renaming processing\n",
      "images renamed\n",
      "images renamed\n",
      "images renamed\n",
      "images renamed\n",
      "images renamed\n",
      "images renamed\n",
      "images renamed\n",
      "images renamed\n",
      "images renamed\n",
      "images renamed\n",
      "images renamed\n",
      "images renamed\n",
      "images renamed\n",
      "images renamed\n",
      "images renamed\n"
     ]
    }
   ],
   "source": [
    "for label in labels:\n",
    "    print(label+ ' image renaming processing')\n",
    "    for path in pathlib.Path(os.path.join(IMAGES_PATH,label)).iterdir():\n",
    "        print('images renamed')\n",
    "        if(path.is_file()):\n",
    "            directory = path.parent\n",
    "            new_name = label+'.'+'{}.jpg'.format(str(uuid.uuid1()))\n",
    "            path.rename(pathlib.Path(directory, new_name))\n",
    "    \n",
    "\n",
    "\n",
    "# for label in labels:\n",
    "#     cap = cv2.VideoCapture(0)\n",
    "#     print('Collecting images for {}'.format(label))\n",
    "#     time.sleep(5)\n",
    "#     for imgnum in range(number_imgs):\n",
    "#         print('Collecting image {}'.format(imgnum))\n",
    "#         ret, frame = cap.read()\n",
    "#         imgname = os.path.join(IMAGES_PATH,label,label+'.'+'{}.jpg'.format(str(uuid.uuid1())))\n",
    "#         cv2.imwrite(imgname, frame)\n",
    "#         cv2.imshow('frame', frame)\n",
    "#         time.sleep(2)\n",
    "\n",
    "#         if cv2.waitKey(1) & 0xFF == ord('q'):\n",
    "#             break\n",
    "# cap.release()\n",
    "# cv2.destroyAllWindows()"
   ]
  },
  {
   "cell_type": "markdown",
   "metadata": {},
   "source": [
    "# 5. Image Labelling"
   ]
  },
  {
   "cell_type": "code",
   "execution_count": 11,
   "metadata": {},
   "outputs": [
    {
     "name": "stdout",
     "output_type": "stream",
     "text": [
      "Requirement already satisfied: pyqt5 in c:\\users\\aashi\\anaconda3\\lib\\site-packages (5.15.4)\n",
      "Requirement already satisfied: lxml in c:\\users\\aashi\\anaconda3\\lib\\site-packages (4.6.3)\n",
      "Requirement already satisfied: PyQt5-Qt5>=5.15 in c:\\users\\aashi\\anaconda3\\lib\\site-packages (from pyqt5) (5.15.2)\n",
      "Requirement already satisfied: PyQt5-sip<13,>=12.8 in c:\\users\\aashi\\anaconda3\\lib\\site-packages (from pyqt5) (12.9.0)\n"
     ]
    }
   ],
   "source": [
    "!pip install --upgrade pyqt5 lxml"
   ]
  },
  {
   "cell_type": "code",
   "execution_count": 7,
   "metadata": {},
   "outputs": [],
   "source": [
    "LABELIMG_PATH = os.path.join('Tensorflow', 'labelimg')"
   ]
  },
  {
   "cell_type": "code",
   "execution_count": 8,
   "metadata": {},
   "outputs": [],
   "source": [
    "if not os.path.exists(LABELIMG_PATH):\n",
    "    !mkdir {LABELIMG_PATH}\n",
    "    !git clone https://github.com/tzutalin/labelImg {LABELIMG_PATH}"
   ]
  },
  {
   "cell_type": "code",
   "execution_count": 9,
   "metadata": {},
   "outputs": [],
   "source": [
    "if os.name == 'posix':\n",
    "    !make qt5py3\n",
    "if os.name =='nt':\n",
    "    !cd {LABELIMG_PATH} && pyrcc5 -o libs/resources.py resources.qrc"
   ]
  },
  {
   "cell_type": "code",
   "execution_count": 10,
   "metadata": {},
   "outputs": [
    {
     "name": "stdout",
     "output_type": "stream",
     "text": [
      "Image:C:\\Users\\aashi\\Desktop\\Projects\\AI Project\\Food Detection\\Tensorflow\\workspace\\images\\collectedimages\\apple\\apple.d90ad5bb-f82a-11eb-b0dc-98bb1e1c00a5.jpg -> Annotation:C:/Users/aashi/Desktop/Projects/AI Project/Food Detection/Tensorflow/workspace/images/collectedimages/apple/apple.d90ad5bb-f82a-11eb-b0dc-98bb1e1c00a5.xml\n",
      "Image:C:\\Users\\aashi\\Desktop\\Projects\\AI Project\\Food Detection\\Tensorflow\\workspace\\images\\collectedimages\\apple\\apple.d90aec22-f82a-11eb-b7ee-98bb1e1c00a5.jpg -> Annotation:C:/Users/aashi/Desktop/Projects/AI Project/Food Detection/Tensorflow/workspace/images/collectedimages/apple/apple.d90aec22-f82a-11eb-b7ee-98bb1e1c00a5.xml\n",
      "Image:C:\\Users\\aashi\\Desktop\\Projects\\AI Project\\Food Detection\\Tensorflow\\workspace\\images\\collectedimages\\apple\\apple.d90b39fe-f82a-11eb-af07-98bb1e1c00a5.jpg -> Annotation:C:/Users/aashi/Desktop/Projects/AI Project/Food Detection/Tensorflow/workspace/images/collectedimages/apple/apple.d90b39fe-f82a-11eb-af07-98bb1e1c00a5.xml\n",
      "Image:C:\\Users\\aashi\\Desktop\\Projects\\AI Project\\Food Detection\\Tensorflow\\workspace\\images\\collectedimages\\apple\\apple.d90b39ff-f82a-11eb-9be2-98bb1e1c00a5.jpg -> Annotation:C:/Users/aashi/Desktop/Projects/AI Project/Food Detection/Tensorflow/workspace/images/collectedimages/apple/apple.d90b39ff-f82a-11eb-9be2-98bb1e1c00a5.xml\n",
      "Image:C:\\Users\\aashi\\Desktop\\Projects\\AI Project\\Food Detection\\Tensorflow\\workspace\\images\\collectedimages\\apple\\apple.d90b625c-f82a-11eb-93a6-98bb1e1c00a5.jpg -> Annotation:C:/Users/aashi/Desktop/Projects/AI Project/Food Detection/Tensorflow/workspace/images/collectedimages/apple/apple.d90b625c-f82a-11eb-93a6-98bb1e1c00a5.xml\n",
      "Image:C:\\Users\\aashi\\Desktop\\Projects\\AI Project\\Food Detection\\Tensorflow\\workspace\\images\\collectedimages\\apple\\apple.d90b1306-f82a-11eb-ba22-98bb1e1c00a5.jpg -> Annotation:C:/Users/aashi/Desktop/Projects/AI Project/Food Detection/Tensorflow/workspace/images/collectedimages/apple/apple.d90b1306-f82a-11eb-ba22-98bb1e1c00a5.xml\n",
      "Image:C:\\Users\\aashi\\Desktop\\Projects\\AI Project\\Food Detection\\Tensorflow\\workspace\\images\\collectedimages\\apple\\apple.d90bfcca-f82a-11eb-bd83-98bb1e1c00a5.jpg -> Annotation:C:/Users/aashi/Desktop/Projects/AI Project/Food Detection/Tensorflow/workspace/images/collectedimages/apple/apple.d90bfcca-f82a-11eb-bd83-98bb1e1c00a5.xml\n",
      "Image:C:\\Users\\aashi\\Desktop\\Projects\\AI Project\\Food Detection\\Tensorflow\\workspace\\images\\collectedimages\\apple\\apple.d90c4ab4-f82a-11eb-96c8-98bb1e1c00a5.jpg -> Annotation:C:/Users/aashi/Desktop/Projects/AI Project/Food Detection/Tensorflow/workspace/images/collectedimages/apple/apple.d90c4ab4-f82a-11eb-96c8-98bb1e1c00a5.xml\n",
      "Image:C:\\Users\\aashi\\Desktop\\Projects\\AI Project\\Food Detection\\Tensorflow\\workspace\\images\\collectedimages\\apple\\apple.d90c23b6-f82a-11eb-a183-98bb1e1c00a5.jpg -> Annotation:C:/Users/aashi/Desktop/Projects/AI Project/Food Detection/Tensorflow/workspace/images/collectedimages/apple/apple.d90c23b6-f82a-11eb-a183-98bb1e1c00a5.xml\n",
      "Image:C:\\Users\\aashi\\Desktop\\Projects\\AI Project\\Food Detection\\Tensorflow\\workspace\\images\\collectedimages\\apple\\apple.d90c71a6-f82a-11eb-8311-98bb1e1c00a5.jpg -> Annotation:C:/Users/aashi/Desktop/Projects/AI Project/Food Detection/Tensorflow/workspace/images/collectedimages/apple/apple.d90c71a6-f82a-11eb-8311-98bb1e1c00a5.xml\n",
      "Image:C:\\Users\\aashi\\Desktop\\Projects\\AI Project\\Food Detection\\Tensorflow\\workspace\\images\\collectedimages\\apple\\apple.d90c98aa-f82a-11eb-a5ff-98bb1e1c00a5.jpg -> Annotation:C:/Users/aashi/Desktop/Projects/AI Project/Food Detection/Tensorflow/workspace/images/collectedimages/apple/apple.d90c98aa-f82a-11eb-a5ff-98bb1e1c00a5.xml\n",
      "Image:C:\\Users\\aashi\\Desktop\\Projects\\AI Project\\Food Detection\\Tensorflow\\workspace\\images\\collectedimages\\apple\\apple.d90c98ab-f82a-11eb-9a8e-98bb1e1c00a5.jpg -> Annotation:C:/Users/aashi/Desktop/Projects/AI Project/Food Detection/Tensorflow/workspace/images/collectedimages/apple/apple.d90c98ab-f82a-11eb-9a8e-98bb1e1c00a5.xml\n"
     ]
    },
    {
     "name": "stderr",
     "output_type": "stream",
     "text": [
      "labelImg.py:965: DeprecationWarning: an integer is required (got type float).  Implicit conversion to integers using __int__ is deprecated, and may be removed in a future version of Python.\n",
      "  bar.setValue(bar.value() + bar.singleStep() * units)\n"
     ]
    },
    {
     "name": "stdout",
     "output_type": "stream",
     "text": [
      "Image:C:\\Users\\aashi\\Desktop\\Projects\\AI Project\\Food Detection\\Tensorflow\\workspace\\images\\collectedimages\\apple\\apple.d90cbf98-f82a-11eb-b43d-98bb1e1c00a5.jpg -> Annotation:C:/Users/aashi/Desktop/Projects/AI Project/Food Detection/Tensorflow/workspace/images/collectedimages/apple/apple.d90cbf98-f82a-11eb-b43d-98bb1e1c00a5.xml\n",
      "Image:C:\\Users\\aashi\\Desktop\\Projects\\AI Project\\Food Detection\\Tensorflow\\workspace\\images\\collectedimages\\apple\\apple.d90cbf99-f82a-11eb-8312-98bb1e1c00a5.jpg -> Annotation:C:/Users/aashi/Desktop/Projects/AI Project/Food Detection/Tensorflow/workspace/images/collectedimages/apple/apple.d90cbf99-f82a-11eb-8312-98bb1e1c00a5.xml\n",
      "Image:C:\\Users\\aashi\\Desktop\\Projects\\AI Project\\Food Detection\\Tensorflow\\workspace\\images\\collectedimages\\apple\\apple.d90ce687-f82a-11eb-80a5-98bb1e1c00a5.jpg -> Annotation:C:/Users/aashi/Desktop/Projects/AI Project/Food Detection/Tensorflow/workspace/images/collectedimages/apple/apple.d90ce687-f82a-11eb-80a5-98bb1e1c00a5.xml\n",
      "Image:C:\\Users\\aashi\\Desktop\\Projects\\AI Project\\Food Detection\\Tensorflow\\workspace\\images\\collectedimages\\lemon\\lemon.d90e930f-f82a-11eb-8da1-98bb1e1c00a5.jpg -> Annotation:C:/Users/aashi/Desktop/Projects/AI Project/Food Detection/Tensorflow/workspace/images/collectedimages/lemon/lemon.d90e930f-f82a-11eb-8da1-98bb1e1c00a5.xml\n",
      "Image:C:\\Users\\aashi\\Desktop\\Projects\\AI Project\\Food Detection\\Tensorflow\\workspace\\images\\collectedimages\\lemon\\lemon.d90eba04-f82a-11eb-8954-98bb1e1c00a5.jpg -> Annotation:C:/Users/aashi/Desktop/Projects/AI Project/Food Detection/Tensorflow/workspace/images/collectedimages/lemon/lemon.d90eba04-f82a-11eb-8954-98bb1e1c00a5.xml\n",
      "Image:C:\\Users\\aashi\\Desktop\\Projects\\AI Project\\Food Detection\\Tensorflow\\workspace\\images\\collectedimages\\lemon\\lemon.d90eba05-f82a-11eb-8a9b-98bb1e1c00a5.jpg -> Annotation:C:/Users/aashi/Desktop/Projects/AI Project/Food Detection/Tensorflow/workspace/images/collectedimages/lemon/lemon.d90eba05-f82a-11eb-8a9b-98bb1e1c00a5.xml\n",
      "Image:C:\\Users\\aashi\\Desktop\\Projects\\AI Project\\Food Detection\\Tensorflow\\workspace\\images\\collectedimages\\lemon\\lemon.d90ee0f6-f82a-11eb-93cc-98bb1e1c00a5.jpg -> Annotation:C:/Users/aashi/Desktop/Projects/AI Project/Food Detection/Tensorflow/workspace/images/collectedimages/lemon/lemon.d90ee0f6-f82a-11eb-93cc-98bb1e1c00a5.xml\n",
      "Image:C:\\Users\\aashi\\Desktop\\Projects\\AI Project\\Food Detection\\Tensorflow\\workspace\\images\\collectedimages\\lemon\\lemon.d90ee0f7-f82a-11eb-bf18-98bb1e1c00a5.jpg -> Annotation:C:/Users/aashi/Desktop/Projects/AI Project/Food Detection/Tensorflow/workspace/images/collectedimages/lemon/lemon.d90ee0f7-f82a-11eb-bf18-98bb1e1c00a5.xml\n",
      "Image:C:\\Users\\aashi\\Desktop\\Projects\\AI Project\\Food Detection\\Tensorflow\\workspace\\images\\collectedimages\\lemon\\lemon.d90f2ee1-f82a-11eb-9c60-98bb1e1c00a5.jpg -> Annotation:C:/Users/aashi/Desktop/Projects/AI Project/Food Detection/Tensorflow/workspace/images/collectedimages/lemon/lemon.d90f2ee1-f82a-11eb-9c60-98bb1e1c00a5.xml\n",
      "Image:C:\\Users\\aashi\\Desktop\\Projects\\AI Project\\Food Detection\\Tensorflow\\workspace\\images\\collectedimages\\lemon\\lemon.d90f2ee2-f82a-11eb-a226-98bb1e1c00a5.jpg -> Annotation:C:/Users/aashi/Desktop/Projects/AI Project/Food Detection/Tensorflow/workspace/images/collectedimages/lemon/lemon.d90f2ee2-f82a-11eb-a226-98bb1e1c00a5.xml\n",
      "Image:C:\\Users\\aashi\\Desktop\\Projects\\AI Project\\Food Detection\\Tensorflow\\workspace\\images\\collectedimages\\lemon\\lemon.d90f7cd0-f82a-11eb-a86d-98bb1e1c00a5.jpg -> Annotation:C:/Users/aashi/Desktop/Projects/AI Project/Food Detection/Tensorflow/workspace/images/collectedimages/lemon/lemon.d90f7cd0-f82a-11eb-a86d-98bb1e1c00a5.xml\n",
      "Image:C:\\Users\\aashi\\Desktop\\Projects\\AI Project\\Food Detection\\Tensorflow\\workspace\\images\\collectedimages\\lemon\\lemon.d90f7cd1-f82a-11eb-a421-98bb1e1c00a5.jpg -> Annotation:C:/Users/aashi/Desktop/Projects/AI Project/Food Detection/Tensorflow/workspace/images/collectedimages/lemon/lemon.d90f7cd1-f82a-11eb-a421-98bb1e1c00a5.xml\n",
      "Image:C:\\Users\\aashi\\Desktop\\Projects\\AI Project\\Food Detection\\Tensorflow\\workspace\\images\\collectedimages\\lemon\\lemon.d90f07f2-f82a-11eb-915d-98bb1e1c00a5.jpg -> Annotation:C:/Users/aashi/Desktop/Projects/AI Project/Food Detection/Tensorflow/workspace/images/collectedimages/lemon/lemon.d90f07f2-f82a-11eb-915d-98bb1e1c00a5.xml\n",
      "Image:C:\\Users\\aashi\\Desktop\\Projects\\AI Project\\Food Detection\\Tensorflow\\workspace\\images\\collectedimages\\lemon\\lemon.d90f55d3-f82a-11eb-95c9-98bb1e1c00a5.jpg -> Annotation:C:/Users/aashi/Desktop/Projects/AI Project/Food Detection/Tensorflow/workspace/images/collectedimages/lemon/lemon.d90f55d3-f82a-11eb-95c9-98bb1e1c00a5.xml\n",
      "Image:C:\\Users\\aashi\\Desktop\\Projects\\AI Project\\Food Detection\\Tensorflow\\workspace\\images\\collectedimages\\lemon\\lemon.d90f55d4-f82a-11eb-aa9c-98bb1e1c00a5.jpg -> Annotation:C:/Users/aashi/Desktop/Projects/AI Project/Food Detection/Tensorflow/workspace/images/collectedimages/lemon/lemon.d90f55d4-f82a-11eb-aa9c-98bb1e1c00a5.xml\n",
      "Image:C:\\Users\\aashi\\Desktop\\Projects\\AI Project\\Food Detection\\Tensorflow\\workspace\\images\\collectedimages\\lemon\\lemon.d90fa3c8-f82a-11eb-b3f2-98bb1e1c00a5.jpg -> Annotation:C:/Users/aashi/Desktop/Projects/AI Project/Food Detection/Tensorflow/workspace/images/collectedimages/lemon/lemon.d90fa3c8-f82a-11eb-b3f2-98bb1e1c00a5.xml\n",
      "Image:C:\\Users\\aashi\\Desktop\\Projects\\AI Project\\Food Detection\\Tensorflow\\workspace\\images\\collectedimages\\lemon\\lemon.d90fcab7-f82a-11eb-8ed5-98bb1e1c00a5.jpg -> Annotation:C:/Users/aashi/Desktop/Projects/AI Project/Food Detection/Tensorflow/workspace/images/collectedimages/lemon/lemon.d90fcab7-f82a-11eb-8ed5-98bb1e1c00a5.xml\n",
      "Image:C:\\Users\\aashi\\Desktop\\Projects\\AI Project\\Food Detection\\Tensorflow\\workspace\\images\\collectedimages\\lemon\\lemon.d90fcab8-f82a-11eb-b648-98bb1e1c00a5.jpg -> Annotation:C:/Users/aashi/Desktop/Projects/AI Project/Food Detection/Tensorflow/workspace/images/collectedimages/lemon/lemon.d90fcab8-f82a-11eb-b648-98bb1e1c00a5.xml\n",
      "Image:C:\\Users\\aashi\\Desktop\\Projects\\AI Project\\Food Detection\\Tensorflow\\workspace\\images\\collectedimages\\nimki\\nimki.d911c528-f82a-11eb-a741-98bb1e1c00a5.jpg -> Annotation:C:/Users/aashi/Desktop/Projects/AI Project/Food Detection/Tensorflow/workspace/images/collectedimages/nimki/nimki.d911c528-f82a-11eb-a741-98bb1e1c00a5.xml\n",
      "Image:C:\\Users\\aashi\\Desktop\\Projects\\AI Project\\Food Detection\\Tensorflow\\workspace\\images\\collectedimages\\nimki\\nimki.d911ec1e-f82a-11eb-8ec0-98bb1e1c00a5.jpg -> Annotation:C:/Users/aashi/Desktop/Projects/AI Project/Food Detection/Tensorflow/workspace/images/collectedimages/nimki/nimki.d911ec1e-f82a-11eb-8ec0-98bb1e1c00a5.xml\n",
      "Image:C:\\Users\\aashi\\Desktop\\Projects\\AI Project\\Food Detection\\Tensorflow\\workspace\\images\\collectedimages\\nimki\\nimki.d911ec1f-f82a-11eb-a05c-98bb1e1c00a5.jpg -> Annotation:C:/Users/aashi/Desktop/Projects/AI Project/Food Detection/Tensorflow/workspace/images/collectedimages/nimki/nimki.d911ec1f-f82a-11eb-a05c-98bb1e1c00a5.xml\n",
      "Image:C:\\Users\\aashi\\Desktop\\Projects\\AI Project\\Food Detection\\Tensorflow\\workspace\\images\\collectedimages\\nimki\\nimki.d9119e33-f82a-11eb-b573-98bb1e1c00a5.jpg -> Annotation:C:/Users/aashi/Desktop/Projects/AI Project/Food Detection/Tensorflow/workspace/images/collectedimages/nimki/nimki.d9119e33-f82a-11eb-b573-98bb1e1c00a5.xml\n",
      "Image:C:\\Users\\aashi\\Desktop\\Projects\\AI Project\\Food Detection\\Tensorflow\\workspace\\images\\collectedimages\\nimki\\nimki.d9119e34-f82a-11eb-89ed-98bb1e1c00a5.jpg -> Annotation:C:/Users/aashi/Desktop/Projects/AI Project/Food Detection/Tensorflow/workspace/images/collectedimages/nimki/nimki.d9119e34-f82a-11eb-89ed-98bb1e1c00a5.xml\n",
      "Image:C:\\Users\\aashi\\Desktop\\Projects\\AI Project\\Food Detection\\Tensorflow\\workspace\\images\\collectedimages\\nimki\\nimki.d9123a0a-f82a-11eb-b349-98bb1e1c00a5.jpg -> Annotation:C:/Users/aashi/Desktop/Projects/AI Project/Food Detection/Tensorflow/workspace/images/collectedimages/nimki/nimki.d9123a0a-f82a-11eb-b349-98bb1e1c00a5.xml\n",
      "Image:C:\\Users\\aashi\\Desktop\\Projects\\AI Project\\Food Detection\\Tensorflow\\workspace\\images\\collectedimages\\nimki\\nimki.d9123a0b-f82a-11eb-b375-98bb1e1c00a5.jpg -> Annotation:C:/Users/aashi/Desktop/Projects/AI Project/Food Detection/Tensorflow/workspace/images/collectedimages/nimki/nimki.d9123a0b-f82a-11eb-b375-98bb1e1c00a5.xml\n",
      "Image:C:\\Users\\aashi\\Desktop\\Projects\\AI Project\\Food Detection\\Tensorflow\\workspace\\images\\collectedimages\\nimki\\nimki.d91260fd-f82a-11eb-bb8d-98bb1e1c00a5.jpg -> Annotation:C:/Users/aashi/Desktop/Projects/AI Project/Food Detection/Tensorflow/workspace/images/collectedimages/nimki/nimki.d91260fd-f82a-11eb-bb8d-98bb1e1c00a5.xml\n",
      "Image:C:\\Users\\aashi\\Desktop\\Projects\\AI Project\\Food Detection\\Tensorflow\\workspace\\images\\collectedimages\\nimki\\nimki.d91260fe-f82a-11eb-bf95-98bb1e1c00a5.jpg -> Annotation:C:/Users/aashi/Desktop/Projects/AI Project/Food Detection/Tensorflow/workspace/images/collectedimages/nimki/nimki.d91260fe-f82a-11eb-bf95-98bb1e1c00a5.xml\n",
      "Image:C:\\Users\\aashi\\Desktop\\Projects\\AI Project\\Food Detection\\Tensorflow\\workspace\\images\\collectedimages\\nimki\\nimki.d91287f5-f82a-11eb-8a86-98bb1e1c00a5.jpg -> Annotation:C:/Users/aashi/Desktop/Projects/AI Project/Food Detection/Tensorflow/workspace/images/collectedimages/nimki/nimki.d91287f5-f82a-11eb-8a86-98bb1e1c00a5.xml\n",
      "Image:C:\\Users\\aashi\\Desktop\\Projects\\AI Project\\Food Detection\\Tensorflow\\workspace\\images\\collectedimages\\nimki\\nimki.d911504a-f82a-11eb-84a1-98bb1e1c00a5.jpg -> Annotation:C:/Users/aashi/Desktop/Projects/AI Project/Food Detection/Tensorflow/workspace/images/collectedimages/nimki/nimki.d911504a-f82a-11eb-84a1-98bb1e1c00a5.xml\n",
      "Image:C:\\Users\\aashi\\Desktop\\Projects\\AI Project\\Food Detection\\Tensorflow\\workspace\\images\\collectedimages\\nimki\\nimki.d911773e-f82a-11eb-887b-98bb1e1c00a5.jpg -> Annotation:C:/Users/aashi/Desktop/Projects/AI Project/Food Detection/Tensorflow/workspace/images/collectedimages/nimki/nimki.d911773e-f82a-11eb-887b-98bb1e1c00a5.xml\n",
      "Image:C:\\Users\\aashi\\Desktop\\Projects\\AI Project\\Food Detection\\Tensorflow\\workspace\\images\\collectedimages\\nimki\\nimki.d911773f-f82a-11eb-97b9-98bb1e1c00a5.jpg -> Annotation:C:/Users/aashi/Desktop/Projects/AI Project/Food Detection/Tensorflow/workspace/images/collectedimages/nimki/nimki.d911773f-f82a-11eb-97b9-98bb1e1c00a5.xml\n",
      "Image:C:\\Users\\aashi\\Desktop\\Projects\\AI Project\\Food Detection\\Tensorflow\\workspace\\images\\collectedimages\\nimki\\nimki.d9121313-f82a-11eb-94d2-98bb1e1c00a5.jpg -> Annotation:C:/Users/aashi/Desktop/Projects/AI Project/Food Detection/Tensorflow/workspace/images/collectedimages/nimki/nimki.d9121313-f82a-11eb-94d2-98bb1e1c00a5.xml\n",
      "Image:C:\\Users\\aashi\\Desktop\\Projects\\AI Project\\Food Detection\\Tensorflow\\workspace\\images\\collectedimages\\nimki\\nimki.d911c529-f82a-11eb-88e5-98bb1e1c00a5.jpg -> Annotation:C:/Users/aashi/Desktop/Projects/AI Project/Food Detection/Tensorflow/workspace/images/collectedimages/nimki/nimki.d911c529-f82a-11eb-88e5-98bb1e1c00a5.xml\n",
      "Image:C:\\Users\\aashi\\Desktop\\Projects\\AI Project\\Food Detection\\Tensorflow\\workspace\\images\\collectedimages\\radish\\radish.d90ff1ac-f82a-11eb-9a93-98bb1e1c00a5.jpg -> Annotation:C:/Users/aashi/Desktop/Projects/AI Project/Food Detection/Tensorflow/workspace/images/collectedimages/radish/radish.d90ff1ac-f82a-11eb-9a93-98bb1e1c00a5.xml\n",
      "Image:C:\\Users\\aashi\\Desktop\\Projects\\AI Project\\Food Detection\\Tensorflow\\workspace\\images\\collectedimages\\radish\\radish.d910b480-f82a-11eb-b851-98bb1e1c00a5.jpg -> Annotation:C:/Users/aashi/Desktop/Projects/AI Project/Food Detection/Tensorflow/workspace/images/collectedimages/radish/radish.d910b480-f82a-11eb-b851-98bb1e1c00a5.xml\n",
      "Image:C:\\Users\\aashi\\Desktop\\Projects\\AI Project\\Food Detection\\Tensorflow\\workspace\\images\\collectedimages\\radish\\radish.d910db68-f82a-11eb-ba25-98bb1e1c00a5.jpg -> Annotation:C:/Users/aashi/Desktop/Projects/AI Project/Food Detection/Tensorflow/workspace/images/collectedimages/radish/radish.d910db68-f82a-11eb-ba25-98bb1e1c00a5.xml\n",
      "Image:C:\\Users\\aashi\\Desktop\\Projects\\AI Project\\Food Detection\\Tensorflow\\workspace\\images\\collectedimages\\radish\\radish.d910db69-f82a-11eb-acac-98bb1e1c00a5.jpg -> Annotation:C:/Users/aashi/Desktop/Projects/AI Project/Food Detection/Tensorflow/workspace/images/collectedimages/radish/radish.d910db69-f82a-11eb-acac-98bb1e1c00a5.xml\n",
      "Image:C:\\Users\\aashi\\Desktop\\Projects\\AI Project\\Food Detection\\Tensorflow\\workspace\\images\\collectedimages\\radish\\radish.d9103f95-f82a-11eb-9421-98bb1e1c00a5.jpg -> Annotation:C:/Users/aashi/Desktop/Projects/AI Project/Food Detection/Tensorflow/workspace/images/collectedimages/radish/radish.d9103f95-f82a-11eb-9421-98bb1e1c00a5.xml\n",
      "Image:C:\\Users\\aashi\\Desktop\\Projects\\AI Project\\Food Detection\\Tensorflow\\workspace\\images\\collectedimages\\radish\\radish.d9103f96-f82a-11eb-876d-98bb1e1c00a5.jpg -> Annotation:C:/Users/aashi/Desktop/Projects/AI Project/Food Detection/Tensorflow/workspace/images/collectedimages/radish/radish.d9103f96-f82a-11eb-876d-98bb1e1c00a5.xml\n",
      "Image:C:\\Users\\aashi\\Desktop\\Projects\\AI Project\\Food Detection\\Tensorflow\\workspace\\images\\collectedimages\\radish\\radish.d9108eec-f82a-11eb-8b79-98bb1e1c00a5.jpg -> Annotation:C:/Users/aashi/Desktop/Projects/AI Project/Food Detection/Tensorflow/workspace/images/collectedimages/radish/radish.d9108eec-f82a-11eb-8b79-98bb1e1c00a5.xml\n",
      "Image:C:\\Users\\aashi\\Desktop\\Projects\\AI Project\\Food Detection\\Tensorflow\\workspace\\images\\collectedimages\\radish\\radish.d9108eed-f82a-11eb-bb60-98bb1e1c00a5.jpg -> Annotation:C:/Users/aashi/Desktop/Projects/AI Project/Food Detection/Tensorflow/workspace/images/collectedimages/radish/radish.d9108eed-f82a-11eb-bb60-98bb1e1c00a5.xml\n",
      "Image:C:\\Users\\aashi\\Desktop\\Projects\\AI Project\\Food Detection\\Tensorflow\\workspace\\images\\collectedimages\\radish\\radish.d91018a1-f82a-11eb-8500-98bb1e1c00a5.jpg -> Annotation:C:/Users/aashi/Desktop/Projects/AI Project/Food Detection/Tensorflow/workspace/images/collectedimages/radish/radish.d91018a1-f82a-11eb-8500-98bb1e1c00a5.xml\n",
      "Image:C:\\Users\\aashi\\Desktop\\Projects\\AI Project\\Food Detection\\Tensorflow\\workspace\\images\\collectedimages\\radish\\radish.d91018a2-f82a-11eb-a70f-98bb1e1c00a5.jpg -> Annotation:C:/Users/aashi/Desktop/Projects/AI Project/Food Detection/Tensorflow/workspace/images/collectedimages/radish/radish.d91018a2-f82a-11eb-a70f-98bb1e1c00a5.xml\n",
      "Image:C:\\Users\\aashi\\Desktop\\Projects\\AI Project\\Food Detection\\Tensorflow\\workspace\\images\\collectedimages\\radish\\radish.d91067a8-f82a-11eb-b659-98bb1e1c00a5.jpg -> Annotation:C:/Users/aashi/Desktop/Projects/AI Project/Food Detection/Tensorflow/workspace/images/collectedimages/radish/radish.d91067a8-f82a-11eb-b659-98bb1e1c00a5.xml\n",
      "Image:C:\\Users\\aashi\\Desktop\\Projects\\AI Project\\Food Detection\\Tensorflow\\workspace\\images\\collectedimages\\radish\\radish.d91067a9-f82a-11eb-9220-98bb1e1c00a5.jpg -> Annotation:C:/Users/aashi/Desktop/Projects/AI Project/Food Detection/Tensorflow/workspace/images/collectedimages/radish/radish.d91067a9-f82a-11eb-9220-98bb1e1c00a5.xml\n",
      "Image:C:\\Users\\aashi\\Desktop\\Projects\\AI Project\\Food Detection\\Tensorflow\\workspace\\images\\collectedimages\\radish\\radish.d9110263-f82a-11eb-8a73-98bb1e1c00a5.jpg -> Annotation:C:/Users/aashi/Desktop/Projects/AI Project/Food Detection/Tensorflow/workspace/images/collectedimages/radish/radish.d9110263-f82a-11eb-8a73-98bb1e1c00a5.xml\n",
      "Image:C:\\Users\\aashi\\Desktop\\Projects\\AI Project\\Food Detection\\Tensorflow\\workspace\\images\\collectedimages\\radish\\radish.d9110264-f82a-11eb-8961-98bb1e1c00a5.jpg -> Annotation:C:/Users/aashi/Desktop/Projects/AI Project/Food Detection/Tensorflow/workspace/images/collectedimages/radish/radish.d9110264-f82a-11eb-8961-98bb1e1c00a5.xml\n",
      "Image:C:\\Users\\aashi\\Desktop\\Projects\\AI Project\\Food Detection\\Tensorflow\\workspace\\images\\collectedimages\\radish\\radish.d9112953-f82a-11eb-8c45-98bb1e1c00a5.jpg -> Annotation:C:/Users/aashi/Desktop/Projects/AI Project/Food Detection/Tensorflow/workspace/images/collectedimages/radish/radish.d9112953-f82a-11eb-8c45-98bb1e1c00a5.xml\n",
      "Image:C:\\Users\\aashi\\Desktop\\Projects\\AI Project\\Food Detection\\Tensorflow\\workspace\\images\\collectedimages\\tomato\\tomato.d90d0d80-f82a-11eb-9c43-98bb1e1c00a5.jpg -> Annotation:C:/Users/aashi/Desktop/Projects/AI Project/Food Detection/Tensorflow/workspace/images/collectedimages/tomato/tomato.d90d0d80-f82a-11eb-9c43-98bb1e1c00a5.xml\n",
      "Image:C:\\Users\\aashi\\Desktop\\Projects\\AI Project\\Food Detection\\Tensorflow\\workspace\\images\\collectedimages\\tomato\\tomato.d90d5b6a-f82a-11eb-ba75-98bb1e1c00a5.jpg -> Annotation:C:/Users/aashi/Desktop/Projects/AI Project/Food Detection/Tensorflow/workspace/images/collectedimages/tomato/tomato.d90d5b6a-f82a-11eb-ba75-98bb1e1c00a5.xml\n",
      "Image:C:\\Users\\aashi\\Desktop\\Projects\\AI Project\\Food Detection\\Tensorflow\\workspace\\images\\collectedimages\\tomato\\tomato.d90d825a-f82a-11eb-9ec5-98bb1e1c00a5.jpg -> Annotation:C:/Users/aashi/Desktop/Projects/AI Project/Food Detection/Tensorflow/workspace/images/collectedimages/tomato/tomato.d90d825a-f82a-11eb-9ec5-98bb1e1c00a5.xml\n",
      "Image:C:\\Users\\aashi\\Desktop\\Projects\\AI Project\\Food Detection\\Tensorflow\\workspace\\images\\collectedimages\\tomato\\tomato.d90d3472-f82a-11eb-aceb-98bb1e1c00a5.jpg -> Annotation:C:/Users/aashi/Desktop/Projects/AI Project/Food Detection/Tensorflow/workspace/images/collectedimages/tomato/tomato.d90d3472-f82a-11eb-aceb-98bb1e1c00a5.xml\n",
      "Image:C:\\Users\\aashi\\Desktop\\Projects\\AI Project\\Food Detection\\Tensorflow\\workspace\\images\\collectedimages\\tomato\\tomato.d90d3473-f82a-11eb-ae0d-98bb1e1c00a5.jpg -> Annotation:C:/Users/aashi/Desktop/Projects/AI Project/Food Detection/Tensorflow/workspace/images/collectedimages/tomato/tomato.d90d3473-f82a-11eb-ae0d-98bb1e1c00a5.xml\n",
      "Image:C:\\Users\\aashi\\Desktop\\Projects\\AI Project\\Food Detection\\Tensorflow\\workspace\\images\\collectedimages\\tomato\\tomato.d90d8259-f82a-11eb-b5da-98bb1e1c00a5.jpg -> Annotation:C:/Users/aashi/Desktop/Projects/AI Project/Food Detection/Tensorflow/workspace/images/collectedimages/tomato/tomato.d90d8259-f82a-11eb-b5da-98bb1e1c00a5.xml\n",
      "Image:C:\\Users\\aashi\\Desktop\\Projects\\AI Project\\Food Detection\\Tensorflow\\workspace\\images\\collectedimages\\tomato\\tomato.d90da957-f82a-11eb-b205-98bb1e1c00a5.jpg -> Annotation:C:/Users/aashi/Desktop/Projects/AI Project/Food Detection/Tensorflow/workspace/images/collectedimages/tomato/tomato.d90da957-f82a-11eb-b205-98bb1e1c00a5.xml\n",
      "Image:C:\\Users\\aashi\\Desktop\\Projects\\AI Project\\Food Detection\\Tensorflow\\workspace\\images\\collectedimages\\tomato\\tomato.d90dd04f-f82a-11eb-ac73-98bb1e1c00a5.jpg -> Annotation:C:/Users/aashi/Desktop/Projects/AI Project/Food Detection/Tensorflow/workspace/images/collectedimages/tomato/tomato.d90dd04f-f82a-11eb-ac73-98bb1e1c00a5.xml\n",
      "Cancel creation.\n",
      "Image:C:\\Users\\aashi\\Desktop\\Projects\\AI Project\\Food Detection\\Tensorflow\\workspace\\images\\collectedimages\\tomato\\tomato.d90dd050-f82a-11eb-a117-98bb1e1c00a5.jpg -> Annotation:C:/Users/aashi/Desktop/Projects/AI Project/Food Detection/Tensorflow/workspace/images/collectedimages/tomato/tomato.d90dd050-f82a-11eb-a117-98bb1e1c00a5.xml\n",
      "Image:C:\\Users\\aashi\\Desktop\\Projects\\AI Project\\Food Detection\\Tensorflow\\workspace\\images\\collectedimages\\tomato\\tomato.d90df73e-f82a-11eb-a4e5-98bb1e1c00a5.jpg -> Annotation:C:/Users/aashi/Desktop/Projects/AI Project/Food Detection/Tensorflow/workspace/images/collectedimages/tomato/tomato.d90df73e-f82a-11eb-a4e5-98bb1e1c00a5.xml\n",
      "Image:C:\\Users\\aashi\\Desktop\\Projects\\AI Project\\Food Detection\\Tensorflow\\workspace\\images\\collectedimages\\tomato\\tomato.d90e1e2d-f82a-11eb-9015-98bb1e1c00a5.jpg -> Annotation:C:/Users/aashi/Desktop/Projects/AI Project/Food Detection/Tensorflow/workspace/images/collectedimages/tomato/tomato.d90e1e2d-f82a-11eb-9015-98bb1e1c00a5.xml\n",
      "Image:C:\\Users\\aashi\\Desktop\\Projects\\AI Project\\Food Detection\\Tensorflow\\workspace\\images\\collectedimages\\tomato\\tomato.d90e1e2e-f82a-11eb-9225-98bb1e1c00a5.jpg -> Annotation:C:/Users/aashi/Desktop/Projects/AI Project/Food Detection/Tensorflow/workspace/images/collectedimages/tomato/tomato.d90e1e2e-f82a-11eb-9225-98bb1e1c00a5.xml\n",
      "Image:C:\\Users\\aashi\\Desktop\\Projects\\AI Project\\Food Detection\\Tensorflow\\workspace\\images\\collectedimages\\tomato\\tomato.d90e6c1c-f82a-11eb-bc20-98bb1e1c00a5.jpg -> Annotation:C:/Users/aashi/Desktop/Projects/AI Project/Food Detection/Tensorflow/workspace/images/collectedimages/tomato/tomato.d90e6c1c-f82a-11eb-bc20-98bb1e1c00a5.xml\n",
      "Image:C:\\Users\\aashi\\Desktop\\Projects\\AI Project\\Food Detection\\Tensorflow\\workspace\\images\\collectedimages\\tomato\\tomato.d90e4522-f82a-11eb-9f52-98bb1e1c00a5.jpg -> Annotation:C:/Users/aashi/Desktop/Projects/AI Project/Food Detection/Tensorflow/workspace/images/collectedimages/tomato/tomato.d90e4522-f82a-11eb-9f52-98bb1e1c00a5.xml\n",
      "Image:C:\\Users\\aashi\\Desktop\\Projects\\AI Project\\Food Detection\\Tensorflow\\workspace\\images\\collectedimages\\tomato\\tomato.d90e4523-f82a-11eb-94ac-98bb1e1c00a5.jpg -> Annotation:C:/Users/aashi/Desktop/Projects/AI Project/Food Detection/Tensorflow/workspace/images/collectedimages/tomato/tomato.d90e4523-f82a-11eb-94ac-98bb1e1c00a5.xml\n"
     ]
    }
   ],
   "source": [
    "!cd {LABELIMG_PATH} && python labelImg.py"
   ]
  },
  {
   "cell_type": "markdown",
   "metadata": {},
   "source": [
    "# 6. Move them into a Training and Testing Partition"
   ]
  },
  {
   "cell_type": "markdown",
   "metadata": {},
   "source": [
    "# OPTIONAL - 7. Compress them for Colab Training"
   ]
  },
  {
   "cell_type": "code",
   "execution_count": 20,
   "metadata": {},
   "outputs": [],
   "source": [
    "TRAIN_PATH = os.path.join('Tensorflow', 'workspace', 'images', 'train')\n",
    "TEST_PATH = os.path.join('Tensorflow', 'workspace', 'images', 'test')\n",
    "ARCHIVE_PATH = os.path.join('Tensorflow', 'workspace', 'images', 'archive.tar.gz')"
   ]
  },
  {
   "cell_type": "code",
   "execution_count": 21,
   "metadata": {},
   "outputs": [],
   "source": [
    "!tar -czf {ARCHIVE_PATH} {TRAIN_PATH} {TEST_PATH}"
   ]
  },
  {
   "cell_type": "code",
   "execution_count": null,
   "metadata": {},
   "outputs": [],
   "source": []
  }
 ],
 "metadata": {
  "kernelspec": {
   "display_name": "tfod",
   "language": "python",
   "name": "tfod"
  },
  "language_info": {
   "codemirror_mode": {
    "name": "ipython",
    "version": 3
   },
   "file_extension": ".py",
   "mimetype": "text/x-python",
   "name": "python",
   "nbconvert_exporter": "python",
   "pygments_lexer": "ipython3",
   "version": "3.9.6"
  }
 },
 "nbformat": 4,
 "nbformat_minor": 2
}
